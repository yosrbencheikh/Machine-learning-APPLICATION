{
 "cells": [
  {
   "cell_type": "code",
   "execution_count": 1,
   "metadata": {},
   "outputs": [],
   "source": [
    "import os\n",
    "import csv\n",
    "import pandas as pd\n",
    "import numpy as np\n",
    "import matplotlib.pyplot as plt\n",
    "import seaborn as sns"
   ]
  },
  {
   "cell_type": "code",
   "execution_count": 2,
   "metadata": {},
   "outputs": [
    {
     "data": {
      "text/html": [
       "<div>\n",
       "<style scoped>\n",
       "    .dataframe tbody tr th:only-of-type {\n",
       "        vertical-align: middle;\n",
       "    }\n",
       "\n",
       "    .dataframe tbody tr th {\n",
       "        vertical-align: top;\n",
       "    }\n",
       "\n",
       "    .dataframe thead th {\n",
       "        text-align: right;\n",
       "    }\n",
       "</style>\n",
       "<table border=\"1\" class=\"dataframe\">\n",
       "  <thead>\n",
       "    <tr style=\"text-align: right;\">\n",
       "      <th></th>\n",
       "      <th>translated_text</th>\n",
       "      <th>categories</th>\n",
       "    </tr>\n",
       "  </thead>\n",
       "  <tbody>\n",
       "    <tr>\n",
       "      <th>0</th>\n",
       "      <td>GIVE ME A NIGHT by LOS INQUIETOS (BEsAs) - JON...</td>\n",
       "      <td>Arts &amp; Entertainment</td>\n",
       "    </tr>\n",
       "    <tr>\n",
       "      <th>1</th>\n",
       "      <td>YouTube Doki - Doki Gets BulliedDoki tries to ...</td>\n",
       "      <td>Arts &amp; Entertainment</td>\n",
       "    </tr>\n",
       "    <tr>\n",
       "      <th>2</th>\n",
       "      <td>Concrete Floor Leveling Tool a Paper Roller: W...</td>\n",
       "      <td>Business &amp; Industrial</td>\n",
       "    </tr>\n",
       "    <tr>\n",
       "      <th>3</th>\n",
       "      <td>Mi-T-M 3500psi 4 gpm Pressure Washer Demonstra...</td>\n",
       "      <td>Autos &amp; Vehicles,Home &amp; Garden,Business &amp; Indu...</td>\n",
       "    </tr>\n",
       "    <tr>\n",
       "      <th>4</th>\n",
       "      <td>Pes 15 Barclays patch and kitspatch Barclays P...</td>\n",
       "      <td>Games,Sports</td>\n",
       "    </tr>\n",
       "  </tbody>\n",
       "</table>\n",
       "</div>"
      ],
      "text/plain": [
       "                                     translated_text  \\\n",
       "0  GIVE ME A NIGHT by LOS INQUIETOS (BEsAs) - JON...   \n",
       "1  YouTube Doki - Doki Gets BulliedDoki tries to ...   \n",
       "2  Concrete Floor Leveling Tool a Paper Roller: W...   \n",
       "3  Mi-T-M 3500psi 4 gpm Pressure Washer Demonstra...   \n",
       "4  Pes 15 Barclays patch and kitspatch Barclays P...   \n",
       "\n",
       "                                          categories  \n",
       "0                               Arts & Entertainment  \n",
       "1                               Arts & Entertainment  \n",
       "2                              Business & Industrial  \n",
       "3  Autos & Vehicles,Home & Garden,Business & Indu...  \n",
       "4                                       Games,Sports  "
      ]
     },
     "execution_count": 2,
     "metadata": {},
     "output_type": "execute_result"
    }
   ],
   "source": [
    "#import translated dataframe\n",
    "data = pd.read_pickle(\"/home/yosr/Downloads/TraintopicsTranslated.pkl\")\n",
    "data\n",
    "\n",
    "data_text = pd.concat([data['translated_text'],data['categories']],axis=1)\n",
    "data_text.head()"
   ]
  },
  {
   "cell_type": "code",
   "execution_count": 6,
   "metadata": {},
   "outputs": [],
   "source": [
    "#for this algorithm we will use them as lists\n",
    "#turn categories to lists\n",
    "\n",
    "list= []\n",
    "i = 0\n",
    "for ch in data_text['categories']:\n",
    "    list = ch.split(\",\")\n",
    "    data_text.at[i, 'categories'] = list\n",
    "    i += 1\n",
    "    "
   ]
  },
  {
   "cell_type": "code",
   "execution_count": 8,
   "metadata": {},
   "outputs": [
    {
     "data": {
      "text/html": [
       "<div>\n",
       "<style scoped>\n",
       "    .dataframe tbody tr th:only-of-type {\n",
       "        vertical-align: middle;\n",
       "    }\n",
       "\n",
       "    .dataframe tbody tr th {\n",
       "        vertical-align: top;\n",
       "    }\n",
       "\n",
       "    .dataframe thead th {\n",
       "        text-align: right;\n",
       "    }\n",
       "</style>\n",
       "<table border=\"1\" class=\"dataframe\">\n",
       "  <thead>\n",
       "    <tr style=\"text-align: right;\">\n",
       "      <th></th>\n",
       "      <th>translated_text</th>\n",
       "      <th>categories</th>\n",
       "    </tr>\n",
       "  </thead>\n",
       "  <tbody>\n",
       "    <tr>\n",
       "      <th>0</th>\n",
       "      <td>GIVE ME A NIGHT by LOS INQUIETOS (BEsAs) - JON...</td>\n",
       "      <td>[Arts &amp; Entertainment]</td>\n",
       "    </tr>\n",
       "    <tr>\n",
       "      <th>1</th>\n",
       "      <td>YouTube Doki - Doki Gets BulliedDoki tries to ...</td>\n",
       "      <td>[Arts &amp; Entertainment]</td>\n",
       "    </tr>\n",
       "    <tr>\n",
       "      <th>2</th>\n",
       "      <td>Concrete Floor Leveling Tool a Paper Roller: W...</td>\n",
       "      <td>[Business &amp; Industrial]</td>\n",
       "    </tr>\n",
       "    <tr>\n",
       "      <th>3</th>\n",
       "      <td>Mi-T-M 3500psi 4 gpm Pressure Washer Demonstra...</td>\n",
       "      <td>[Autos &amp; Vehicles, Home &amp; Garden, Business &amp; I...</td>\n",
       "    </tr>\n",
       "    <tr>\n",
       "      <th>4</th>\n",
       "      <td>Pes 15 Barclays patch and kitspatch Barclays P...</td>\n",
       "      <td>[Games, Sports]</td>\n",
       "    </tr>\n",
       "    <tr>\n",
       "      <th>5</th>\n",
       "      <td>CCL2 Final Karnataka Bulldozers Vs Chennai Rhi...</td>\n",
       "      <td>[Games, Sports]</td>\n",
       "    </tr>\n",
       "    <tr>\n",
       "      <th>6</th>\n",
       "      <td>iCaro B4 4ch Channel Sony CCD IR Cameras DVR G...</td>\n",
       "      <td>[Internet &amp; Telecom, Computers &amp; Electronics]</td>\n",
       "    </tr>\n",
       "    <tr>\n",
       "      <th>7</th>\n",
       "      <td>Destiny: Hunt for Shaders Ep. 7 DEAD ORBIT HYP...</td>\n",
       "      <td>[Games]</td>\n",
       "    </tr>\n",
       "    <tr>\n",
       "      <th>8</th>\n",
       "      <td>Sonic the Hedgehog (06) playthrough [Shadow] [...</td>\n",
       "      <td>[Games, Arts &amp; Entertainment]</td>\n",
       "    </tr>\n",
       "    <tr>\n",
       "      <th>9</th>\n",
       "      <td>Ultrasonic washing for fruits, vegetables, ber...</td>\n",
       "      <td>[Food &amp; Drink]</td>\n",
       "    </tr>\n",
       "    <tr>\n",
       "      <th>10</th>\n",
       "      <td>HOT TUB TIME MACHINE 2 OFFICIAL TRAILER REACTI...</td>\n",
       "      <td>[Arts &amp; Entertainment]</td>\n",
       "    </tr>\n",
       "    <tr>\n",
       "      <th>11</th>\n",
       "      <td>4 HERB TEA CURES CANCER THE 4 HERBS THAT ARE U...</td>\n",
       "      <td>[Food &amp; Drink]</td>\n",
       "    </tr>\n",
       "    <tr>\n",
       "      <th>12</th>\n",
       "      <td>Homemade Chocolate Donuts - Gordon RamsayEver ...</td>\n",
       "      <td>[Food &amp; Drink]</td>\n",
       "    </tr>\n",
       "    <tr>\n",
       "      <th>13</th>\n",
       "      <td>we want our giaa manek back as gopi bahuthis</td>\n",
       "      <td>[Arts &amp; Entertainment]</td>\n",
       "    </tr>\n",
       "    <tr>\n",
       "      <th>14</th>\n",
       "      <td>Final NBA 2008 Celtics vs Lakers Game 6 Video ...</td>\n",
       "      <td>[Games, Sports]</td>\n",
       "    </tr>\n",
       "    <tr>\n",
       "      <th>15</th>\n",
       "      <td>super mario 64 cheatsmoon jump push A on your ...</td>\n",
       "      <td>[Games, Arts &amp; Entertainment]</td>\n",
       "    </tr>\n",
       "    <tr>\n",
       "      <th>16</th>\n",
       "      <td>Minecraft: PANDORA Hunger Games - # 1 INTRODUC...</td>\n",
       "      <td>[Games]</td>\n",
       "    </tr>\n",
       "    <tr>\n",
       "      <th>17</th>\n",
       "      <td>Nueva Onda Callao Calipso Hermanos Clark 2010I...</td>\n",
       "      <td>[Arts &amp; Entertainment, Hobbies &amp; Leisure]</td>\n",
       "    </tr>\n",
       "    <tr>\n",
       "      <th>18</th>\n",
       "      <td>Bark At The Moon Cover!hi i've been playing gu...</td>\n",
       "      <td>[Arts &amp; Entertainment]</td>\n",
       "    </tr>\n",
       "    <tr>\n",
       "      <th>19</th>\n",
       "      <td>Bob and bobek dancing in CezArenaThe czech ms ...</td>\n",
       "      <td>[Sports]</td>\n",
       "    </tr>\n",
       "    <tr>\n",
       "      <th>20</th>\n",
       "      <td>Spa Castle In Flushing Queens NY My ReviewBoos...</td>\n",
       "      <td>[Beauty &amp; Fitness]</td>\n",
       "    </tr>\n",
       "    <tr>\n",
       "      <th>21</th>\n",
       "      <td>The goldfish with the origami techniqueBrico T...</td>\n",
       "      <td>[Business &amp; Industrial, Hobbies &amp; Leisure]</td>\n",
       "    </tr>\n",
       "    <tr>\n",
       "      <th>22</th>\n",
       "      <td>Gragas Montage 19Leave a Like! ...Subscribe fo...</td>\n",
       "      <td>[Games]</td>\n",
       "    </tr>\n",
       "    <tr>\n",
       "      <th>23</th>\n",
       "      <td>Lessons and watercolor painting materials Less...</td>\n",
       "      <td>[Arts &amp; Entertainment, Business &amp; Industrial, ...</td>\n",
       "    </tr>\n",
       "    <tr>\n",
       "      <th>24</th>\n",
       "      <td>80's Matchbox Ford Racing Van (Supervan II)Mat...</td>\n",
       "      <td>[Autos &amp; Vehicles, Shopping, Hobbies &amp; Leisure]</td>\n",
       "    </tr>\n",
       "    <tr>\n",
       "      <th>25</th>\n",
       "      <td>Taylor Swift Performs At Time Square (New Year...</td>\n",
       "      <td>[Arts &amp; Entertainment, Travel]</td>\n",
       "    </tr>\n",
       "    <tr>\n",
       "      <th>26</th>\n",
       "      <td>The ultimate one-wheeled jargon of Protozoon f...</td>\n",
       "      <td>[Autos &amp; Vehicles, Sports]</td>\n",
       "    </tr>\n",
       "    <tr>\n",
       "      <th>27</th>\n",
       "      <td>hallelujah i love her so - (Ray Charles) Tutor...</td>\n",
       "      <td>[Arts &amp; Entertainment, Computers &amp; Electronics]</td>\n",
       "    </tr>\n",
       "    <tr>\n",
       "      <th>28</th>\n",
       "      <td>Rally Colli Del Grignolino 2014 SHOW AND FUN !...</td>\n",
       "      <td>[Sports]</td>\n",
       "    </tr>\n",
       "    <tr>\n",
       "      <th>29</th>\n",
       "      <td>Guacamole - TalerzPokus.tvSUBSCRIBE TalerzPoku...</td>\n",
       "      <td>[Food &amp; Drink, Science]</td>\n",
       "    </tr>\n",
       "    <tr>\n",
       "      <th>...</th>\n",
       "      <td>...</td>\n",
       "      <td>...</td>\n",
       "    </tr>\n",
       "    <tr>\n",
       "      <th>17758</th>\n",
       "      <td>El nuevo Opel Insignia - HD - EspañolLa nueva ...</td>\n",
       "      <td>[Autos &amp; Vehicles]</td>\n",
       "    </tr>\n",
       "    <tr>\n",
       "      <th>17759</th>\n",
       "      <td>Agromerkur - Potato harvester - AgroprofilAgro...</td>\n",
       "      <td>[Food &amp; Drink, Business &amp; Industrial]</td>\n",
       "    </tr>\n",
       "    <tr>\n",
       "      <th>17760</th>\n",
       "      <td>Mini Camera F9 DVR - Deal ExtremeDeal Extreme ...</td>\n",
       "      <td>[Hobbies &amp; Leisure, Business &amp; Industrial, Com...</td>\n",
       "    </tr>\n",
       "    <tr>\n",
       "      <th>17761</th>\n",
       "      <td>Boker Plus Manaro Bullseye OverviewClick here ...</td>\n",
       "      <td>[Hobbies &amp; Leisure, Home &amp; Garden]</td>\n",
       "    </tr>\n",
       "    <tr>\n",
       "      <th>17762</th>\n",
       "      <td>Mermaid Making with Play Doh Play Doh I made a...</td>\n",
       "      <td>[Shopping, People &amp; Society, Hobbies &amp; Leisure]</td>\n",
       "    </tr>\n",
       "    <tr>\n",
       "      <th>17763</th>\n",
       "      <td>MLB New Era Fitted Cap CollectionI have finall...</td>\n",
       "      <td>[Shopping]</td>\n",
       "    </tr>\n",
       "    <tr>\n",
       "      <th>17764</th>\n",
       "      <td>INTERVIEW MARTIN LASARTENo description.</td>\n",
       "      <td>[Games, Sports]</td>\n",
       "    </tr>\n",
       "    <tr>\n",
       "      <th>17765</th>\n",
       "      <td>Traxxas iD Part 2: Included High-Output Chargi...</td>\n",
       "      <td>[Hobbies &amp; Leisure, Computers &amp; Electronics, S...</td>\n",
       "    </tr>\n",
       "    <tr>\n",
       "      <th>17766</th>\n",
       "      <td>How to clean a sewing machine bobbin areaAre y...</td>\n",
       "      <td>[Business &amp; Industrial, Hobbies &amp; Leisure]</td>\n",
       "    </tr>\n",
       "    <tr>\n",
       "      <th>17767</th>\n",
       "      <td>Return of soldiers from anti-terrorist operati...</td>\n",
       "      <td>[Autos &amp; Vehicles, Business &amp; Industrial, Travel]</td>\n",
       "    </tr>\n",
       "    <tr>\n",
       "      <th>17768</th>\n",
       "      <td>Pokémon Gold Heart Gold Silver Soul Silver - L...</td>\n",
       "      <td>[Games, Arts &amp; Entertainment, Computers &amp; Elec...</td>\n",
       "    </tr>\n",
       "    <tr>\n",
       "      <th>17769</th>\n",
       "      <td>FAST Otis Elevonic 401 Traction Elevators at t...</td>\n",
       "      <td>[Autos &amp; Vehicles, Travel, Business &amp; Industrial]</td>\n",
       "    </tr>\n",
       "    <tr>\n",
       "      <th>17770</th>\n",
       "      <td>GTA 5 DLC NEW SUPER CAR - \"Pegassi Osiris\" Sho...</td>\n",
       "      <td>[Games, Autos &amp; Vehicles]</td>\n",
       "    </tr>\n",
       "    <tr>\n",
       "      <th>17771</th>\n",
       "      <td>Ninja Basics With ChibaSecrets of the Ninja Ro...</td>\n",
       "      <td>[Arts &amp; Entertainment, Sports]</td>\n",
       "    </tr>\n",
       "    <tr>\n",
       "      <th>17772</th>\n",
       "      <td>Product video backhoe Kingston 175 - www.WEMAT...</td>\n",
       "      <td>[Autos &amp; Vehicles, Business &amp; Industrial]</td>\n",
       "    </tr>\n",
       "    <tr>\n",
       "      <th>17773</th>\n",
       "      <td>Injustice: Gods Among Us - Nightwing VS JokerI...</td>\n",
       "      <td>[Games, Arts &amp; Entertainment]</td>\n",
       "    </tr>\n",
       "    <tr>\n",
       "      <th>17774</th>\n",
       "      <td>Blackout in the light blackout ...</td>\n",
       "      <td>[Sports, Arts &amp; Entertainment]</td>\n",
       "    </tr>\n",
       "    <tr>\n",
       "      <th>17775</th>\n",
       "      <td>Dissidia Final Fantasy - vs TIdus's introsWhat...</td>\n",
       "      <td>[Games, Computers &amp; Electronics]</td>\n",
       "    </tr>\n",
       "    <tr>\n",
       "      <th>17776</th>\n",
       "      <td>Gulf War Tornado airfield attack with radio tr...</td>\n",
       "      <td>[Law &amp; Government]</td>\n",
       "    </tr>\n",
       "    <tr>\n",
       "      <th>17777</th>\n",
       "      <td>Testing Arcus RC is a 10m glider (the same as ...</td>\n",
       "      <td>[Autos &amp; Vehicles, Business &amp; Industrial, Law ...</td>\n",
       "    </tr>\n",
       "    <tr>\n",
       "      <th>17778</th>\n",
       "      <td>Boeing 727-100 TAAG Landing the 727 chartered ...</td>\n",
       "      <td>[Autos &amp; Vehicles, Business &amp; Industrial, Law ...</td>\n",
       "    </tr>\n",
       "    <tr>\n",
       "      <th>17779</th>\n",
       "      <td>Hiking in the Passeier Valley - to the \"Seeber...</td>\n",
       "      <td>[Science]</td>\n",
       "    </tr>\n",
       "    <tr>\n",
       "      <th>17780</th>\n",
       "      <td>Haglöfs - Essens Down Jacket Order: http://www...</td>\n",
       "      <td>[Shopping, Hobbies &amp; Leisure]</td>\n",
       "    </tr>\n",
       "    <tr>\n",
       "      <th>17781</th>\n",
       "      <td>FF forge tips: episode 1:making an elevatorPle...</td>\n",
       "      <td>[Games, Business &amp; Industrial]</td>\n",
       "    </tr>\n",
       "    <tr>\n",
       "      <th>17782</th>\n",
       "      <td>Vlog: Рыбный день! или \"У природы нет плохой п...</td>\n",
       "      <td>[Pets &amp; Animals, Shopping]</td>\n",
       "    </tr>\n",
       "    <tr>\n",
       "      <th>17783</th>\n",
       "      <td>bugshow to get rid of Aphids with out using ha...</td>\n",
       "      <td>[Pets &amp; Animals, Science]</td>\n",
       "    </tr>\n",
       "    <tr>\n",
       "      <th>17784</th>\n",
       "      <td>How to open the cap seal │ One-point lesson fr...</td>\n",
       "      <td>[Food &amp; Drink]</td>\n",
       "    </tr>\n",
       "    <tr>\n",
       "      <th>17785</th>\n",
       "      <td>Capsule Rock Seed 10 Lemon Energy Lock Seed LE...</td>\n",
       "      <td>[Shopping, Arts &amp; Entertainment]</td>\n",
       "    </tr>\n",
       "    <tr>\n",
       "      <th>17786</th>\n",
       "      <td>How to Fix iPhone 5 Power Button ProblemiPhone...</td>\n",
       "      <td>[Internet &amp; Telecom, Computers &amp; Electronics]</td>\n",
       "    </tr>\n",
       "    <tr>\n",
       "      <th>17787</th>\n",
       "      <td>Southern Lee high school vs Douglas Byrd senio...</td>\n",
       "      <td>[Games, Sports, Jobs &amp; Education]</td>\n",
       "    </tr>\n",
       "  </tbody>\n",
       "</table>\n",
       "<p>17788 rows × 2 columns</p>\n",
       "</div>"
      ],
      "text/plain": [
       "                                         translated_text  \\\n",
       "0      GIVE ME A NIGHT by LOS INQUIETOS (BEsAs) - JON...   \n",
       "1      YouTube Doki - Doki Gets BulliedDoki tries to ...   \n",
       "2      Concrete Floor Leveling Tool a Paper Roller: W...   \n",
       "3      Mi-T-M 3500psi 4 gpm Pressure Washer Demonstra...   \n",
       "4      Pes 15 Barclays patch and kitspatch Barclays P...   \n",
       "5      CCL2 Final Karnataka Bulldozers Vs Chennai Rhi...   \n",
       "6      iCaro B4 4ch Channel Sony CCD IR Cameras DVR G...   \n",
       "7      Destiny: Hunt for Shaders Ep. 7 DEAD ORBIT HYP...   \n",
       "8      Sonic the Hedgehog (06) playthrough [Shadow] [...   \n",
       "9      Ultrasonic washing for fruits, vegetables, ber...   \n",
       "10     HOT TUB TIME MACHINE 2 OFFICIAL TRAILER REACTI...   \n",
       "11     4 HERB TEA CURES CANCER THE 4 HERBS THAT ARE U...   \n",
       "12     Homemade Chocolate Donuts - Gordon RamsayEver ...   \n",
       "13          we want our giaa manek back as gopi bahuthis   \n",
       "14     Final NBA 2008 Celtics vs Lakers Game 6 Video ...   \n",
       "15     super mario 64 cheatsmoon jump push A on your ...   \n",
       "16     Minecraft: PANDORA Hunger Games - # 1 INTRODUC...   \n",
       "17     Nueva Onda Callao Calipso Hermanos Clark 2010I...   \n",
       "18     Bark At The Moon Cover!hi i've been playing gu...   \n",
       "19     Bob and bobek dancing in CezArenaThe czech ms ...   \n",
       "20     Spa Castle In Flushing Queens NY My ReviewBoos...   \n",
       "21     The goldfish with the origami techniqueBrico T...   \n",
       "22     Gragas Montage 19Leave a Like! ...Subscribe fo...   \n",
       "23     Lessons and watercolor painting materials Less...   \n",
       "24     80's Matchbox Ford Racing Van (Supervan II)Mat...   \n",
       "25     Taylor Swift Performs At Time Square (New Year...   \n",
       "26     The ultimate one-wheeled jargon of Protozoon f...   \n",
       "27     hallelujah i love her so - (Ray Charles) Tutor...   \n",
       "28     Rally Colli Del Grignolino 2014 SHOW AND FUN !...   \n",
       "29     Guacamole - TalerzPokus.tvSUBSCRIBE TalerzPoku...   \n",
       "...                                                  ...   \n",
       "17758  El nuevo Opel Insignia - HD - EspañolLa nueva ...   \n",
       "17759  Agromerkur - Potato harvester - AgroprofilAgro...   \n",
       "17760  Mini Camera F9 DVR - Deal ExtremeDeal Extreme ...   \n",
       "17761  Boker Plus Manaro Bullseye OverviewClick here ...   \n",
       "17762  Mermaid Making with Play Doh Play Doh I made a...   \n",
       "17763  MLB New Era Fitted Cap CollectionI have finall...   \n",
       "17764            INTERVIEW MARTIN LASARTENo description.   \n",
       "17765  Traxxas iD Part 2: Included High-Output Chargi...   \n",
       "17766  How to clean a sewing machine bobbin areaAre y...   \n",
       "17767  Return of soldiers from anti-terrorist operati...   \n",
       "17768  Pokémon Gold Heart Gold Silver Soul Silver - L...   \n",
       "17769  FAST Otis Elevonic 401 Traction Elevators at t...   \n",
       "17770  GTA 5 DLC NEW SUPER CAR - \"Pegassi Osiris\" Sho...   \n",
       "17771  Ninja Basics With ChibaSecrets of the Ninja Ro...   \n",
       "17772  Product video backhoe Kingston 175 - www.WEMAT...   \n",
       "17773  Injustice: Gods Among Us - Nightwing VS JokerI...   \n",
       "17774                 Blackout in the light blackout ...   \n",
       "17775  Dissidia Final Fantasy - vs TIdus's introsWhat...   \n",
       "17776  Gulf War Tornado airfield attack with radio tr...   \n",
       "17777  Testing Arcus RC is a 10m glider (the same as ...   \n",
       "17778  Boeing 727-100 TAAG Landing the 727 chartered ...   \n",
       "17779  Hiking in the Passeier Valley - to the \"Seeber...   \n",
       "17780  Haglöfs - Essens Down Jacket Order: http://www...   \n",
       "17781  FF forge tips: episode 1:making an elevatorPle...   \n",
       "17782  Vlog: Рыбный день! или \"У природы нет плохой п...   \n",
       "17783  bugshow to get rid of Aphids with out using ha...   \n",
       "17784  How to open the cap seal │ One-point lesson fr...   \n",
       "17785  Capsule Rock Seed 10 Lemon Energy Lock Seed LE...   \n",
       "17786  How to Fix iPhone 5 Power Button ProblemiPhone...   \n",
       "17787  Southern Lee high school vs Douglas Byrd senio...   \n",
       "\n",
       "                                              categories  \n",
       "0                                 [Arts & Entertainment]  \n",
       "1                                 [Arts & Entertainment]  \n",
       "2                                [Business & Industrial]  \n",
       "3      [Autos & Vehicles, Home & Garden, Business & I...  \n",
       "4                                        [Games, Sports]  \n",
       "5                                        [Games, Sports]  \n",
       "6          [Internet & Telecom, Computers & Electronics]  \n",
       "7                                                [Games]  \n",
       "8                          [Games, Arts & Entertainment]  \n",
       "9                                         [Food & Drink]  \n",
       "10                                [Arts & Entertainment]  \n",
       "11                                        [Food & Drink]  \n",
       "12                                        [Food & Drink]  \n",
       "13                                [Arts & Entertainment]  \n",
       "14                                       [Games, Sports]  \n",
       "15                         [Games, Arts & Entertainment]  \n",
       "16                                               [Games]  \n",
       "17             [Arts & Entertainment, Hobbies & Leisure]  \n",
       "18                                [Arts & Entertainment]  \n",
       "19                                              [Sports]  \n",
       "20                                    [Beauty & Fitness]  \n",
       "21            [Business & Industrial, Hobbies & Leisure]  \n",
       "22                                               [Games]  \n",
       "23     [Arts & Entertainment, Business & Industrial, ...  \n",
       "24       [Autos & Vehicles, Shopping, Hobbies & Leisure]  \n",
       "25                        [Arts & Entertainment, Travel]  \n",
       "26                            [Autos & Vehicles, Sports]  \n",
       "27       [Arts & Entertainment, Computers & Electronics]  \n",
       "28                                              [Sports]  \n",
       "29                               [Food & Drink, Science]  \n",
       "...                                                  ...  \n",
       "17758                                 [Autos & Vehicles]  \n",
       "17759              [Food & Drink, Business & Industrial]  \n",
       "17760  [Hobbies & Leisure, Business & Industrial, Com...  \n",
       "17761                 [Hobbies & Leisure, Home & Garden]  \n",
       "17762    [Shopping, People & Society, Hobbies & Leisure]  \n",
       "17763                                         [Shopping]  \n",
       "17764                                    [Games, Sports]  \n",
       "17765  [Hobbies & Leisure, Computers & Electronics, S...  \n",
       "17766         [Business & Industrial, Hobbies & Leisure]  \n",
       "17767  [Autos & Vehicles, Business & Industrial, Travel]  \n",
       "17768  [Games, Arts & Entertainment, Computers & Elec...  \n",
       "17769  [Autos & Vehicles, Travel, Business & Industrial]  \n",
       "17770                          [Games, Autos & Vehicles]  \n",
       "17771                     [Arts & Entertainment, Sports]  \n",
       "17772          [Autos & Vehicles, Business & Industrial]  \n",
       "17773                      [Games, Arts & Entertainment]  \n",
       "17774                     [Sports, Arts & Entertainment]  \n",
       "17775                   [Games, Computers & Electronics]  \n",
       "17776                                 [Law & Government]  \n",
       "17777  [Autos & Vehicles, Business & Industrial, Law ...  \n",
       "17778  [Autos & Vehicles, Business & Industrial, Law ...  \n",
       "17779                                          [Science]  \n",
       "17780                      [Shopping, Hobbies & Leisure]  \n",
       "17781                     [Games, Business & Industrial]  \n",
       "17782                         [Pets & Animals, Shopping]  \n",
       "17783                          [Pets & Animals, Science]  \n",
       "17784                                     [Food & Drink]  \n",
       "17785                   [Shopping, Arts & Entertainment]  \n",
       "17786      [Internet & Telecom, Computers & Electronics]  \n",
       "17787                  [Games, Sports, Jobs & Education]  \n",
       "\n",
       "[17788 rows x 2 columns]"
      ]
     },
     "execution_count": 8,
     "metadata": {},
     "output_type": "execute_result"
    }
   ],
   "source": [
    "data_text['categories'].values.tolist()\n",
    "data_text"
   ]
  },
  {
   "cell_type": "code",
   "execution_count": 9,
   "metadata": {},
   "outputs": [],
   "source": [
    "def cleanPunc(sentence): #function to clean the word of any punctuation or special characters\n",
    "    cleaned = re.sub(r'[?|!|\\'|\"|#]',r'',sentence)\n",
    "    cleaned = re.sub(r'[.|,|)|(|\\|/]',r' ',cleaned)\n",
    "    cleaned = cleaned.strip()\n",
    "    cleaned = cleaned.replace(\"\\n\",\" \")\n",
    "    return cleaned\n",
    "\n",
    "#function to remove digits just to make sure\n",
    "def removeCharDigit(text):\n",
    "    str='`1234567890-=~@#$%^&*()►■●•_+[!{;\":\\'><.,/?\"}]'\n",
    "    for w in text:\n",
    "        if w in str:\n",
    "            text=text.replace(w,'')\n",
    "    return text\n",
    "\n",
    "def keepAlpha(sentence):\n",
    "    alpha_sent = \"\"\n",
    "    for word in sentence.split():\n",
    "        alpha_word = re.sub('[^a-z A-Z]+', ' ', word)\n",
    "        alpha_sent += alpha_word\n",
    "        alpha_sent += \" \"\n",
    "    alpha_sent = alpha_sent.strip()\n",
    "    return alpha_sent\n",
    "\n",
    "#function to remove accented chars\n",
    "import unicodedata\n",
    "def removeAscendingChar(data):\n",
    "    data=unicodedata.normalize('NFKD', data).encode('ascii', 'ignore').decode('utf-8', 'ignore')\n",
    "    return data"
   ]
  },
  {
   "cell_type": "code",
   "execution_count": 12,
   "metadata": {},
   "outputs": [
    {
     "data": {
      "text/html": [
       "<div>\n",
       "<style scoped>\n",
       "    .dataframe tbody tr th:only-of-type {\n",
       "        vertical-align: middle;\n",
       "    }\n",
       "\n",
       "    .dataframe tbody tr th {\n",
       "        vertical-align: top;\n",
       "    }\n",
       "\n",
       "    .dataframe thead th {\n",
       "        text-align: right;\n",
       "    }\n",
       "</style>\n",
       "<table border=\"1\" class=\"dataframe\">\n",
       "  <thead>\n",
       "    <tr style=\"text-align: right;\">\n",
       "      <th></th>\n",
       "      <th>translated_text</th>\n",
       "      <th>categories</th>\n",
       "    </tr>\n",
       "  </thead>\n",
       "  <tbody>\n",
       "    <tr>\n",
       "      <th>0</th>\n",
       "      <td>give me a night by los inquietos besas   jonna...</td>\n",
       "      <td>[Arts &amp; Entertainment]</td>\n",
       "    </tr>\n",
       "    <tr>\n",
       "      <th>1</th>\n",
       "      <td>youtube doki   doki gets bullieddoki tries to ...</td>\n",
       "      <td>[Arts &amp; Entertainment]</td>\n",
       "    </tr>\n",
       "    <tr>\n",
       "      <th>2</th>\n",
       "      <td>concrete floor leveling tool a paper roller  w...</td>\n",
       "      <td>[Business &amp; Industrial]</td>\n",
       "    </tr>\n",
       "    <tr>\n",
       "      <th>3</th>\n",
       "      <td>mi t m  psi   gpm pressure washer demonstratio...</td>\n",
       "      <td>[Autos &amp; Vehicles, Home &amp; Garden, Business &amp; I...</td>\n",
       "    </tr>\n",
       "    <tr>\n",
       "      <th>4</th>\n",
       "      <td>pes   barclays patch and kitspatch barclays pr...</td>\n",
       "      <td>[Games, Sports]</td>\n",
       "    </tr>\n",
       "  </tbody>\n",
       "</table>\n",
       "</div>"
      ],
      "text/plain": [
       "                                     translated_text  \\\n",
       "0  give me a night by los inquietos besas   jonna...   \n",
       "1  youtube doki   doki gets bullieddoki tries to ...   \n",
       "2  concrete floor leveling tool a paper roller  w...   \n",
       "3  mi t m  psi   gpm pressure washer demonstratio...   \n",
       "4  pes   barclays patch and kitspatch barclays pr...   \n",
       "\n",
       "                                          categories  \n",
       "0                             [Arts & Entertainment]  \n",
       "1                             [Arts & Entertainment]  \n",
       "2                            [Business & Industrial]  \n",
       "3  [Autos & Vehicles, Home & Garden, Business & I...  \n",
       "4                                    [Games, Sports]  "
      ]
     },
     "execution_count": 12,
     "metadata": {},
     "output_type": "execute_result"
    }
   ],
   "source": [
    "#apply changes\n",
    "import re\n",
    "#put all the unctions above into one global function\n",
    "def PreProcessing(text):\n",
    "    text=removeAscendingChar(text)\n",
    "    #print(text)\n",
    "    text=cleanPunc(text)\n",
    "    #print(text)\n",
    "    text=keepAlpha(text)\n",
    "    #print(text)\n",
    "    text=removeCharDigit(text)\n",
    "    return(text)\n",
    "\n",
    "\n",
    "data_text['translated_text'] = data_text['translated_text'].str.lower()\n",
    "#apply the function preprocess to our data\n",
    "data_text['translated_text'] = data_text['translated_text'].map(lambda com : PreProcessing(com))\n",
    "\n",
    "data_text.head()"
   ]
  },
  {
   "cell_type": "code",
   "execution_count": 13,
   "metadata": {},
   "outputs": [
    {
     "data": {
      "text/html": [
       "<div>\n",
       "<style scoped>\n",
       "    .dataframe tbody tr th:only-of-type {\n",
       "        vertical-align: middle;\n",
       "    }\n",
       "\n",
       "    .dataframe tbody tr th {\n",
       "        vertical-align: top;\n",
       "    }\n",
       "\n",
       "    .dataframe thead th {\n",
       "        text-align: right;\n",
       "    }\n",
       "</style>\n",
       "<table border=\"1\" class=\"dataframe\">\n",
       "  <thead>\n",
       "    <tr style=\"text-align: right;\">\n",
       "      <th></th>\n",
       "      <th>translated_text</th>\n",
       "      <th>categories</th>\n",
       "    </tr>\n",
       "  </thead>\n",
       "  <tbody>\n",
       "    <tr>\n",
       "      <th>0</th>\n",
       "      <td>give   night  los inquietos besas   jonnatangc...</td>\n",
       "      <td>[Arts &amp; Entertainment]</td>\n",
       "    </tr>\n",
       "    <tr>\n",
       "      <th>1</th>\n",
       "      <td>youtube doki   doki gets bullieddoki tries  re...</td>\n",
       "      <td>[Arts &amp; Entertainment]</td>\n",
       "    </tr>\n",
       "    <tr>\n",
       "      <th>2</th>\n",
       "      <td>concrete floor leveling tool  paper roller    ...</td>\n",
       "      <td>[Business &amp; Industrial]</td>\n",
       "    </tr>\n",
       "    <tr>\n",
       "      <th>3</th>\n",
       "      <td>mi    psi   gpm pressure washer demonstrationt...</td>\n",
       "      <td>[Autos &amp; Vehicles, Home &amp; Garden, Business &amp; I...</td>\n",
       "    </tr>\n",
       "    <tr>\n",
       "      <th>4</th>\n",
       "      <td>pes   barclays patch  kitspatch barclays premi...</td>\n",
       "      <td>[Games, Sports]</td>\n",
       "    </tr>\n",
       "  </tbody>\n",
       "</table>\n",
       "</div>"
      ],
      "text/plain": [
       "                                     translated_text  \\\n",
       "0  give   night  los inquietos besas   jonnatangc...   \n",
       "1  youtube doki   doki gets bullieddoki tries  re...   \n",
       "2  concrete floor leveling tool  paper roller    ...   \n",
       "3  mi    psi   gpm pressure washer demonstrationt...   \n",
       "4  pes   barclays patch  kitspatch barclays premi...   \n",
       "\n",
       "                                          categories  \n",
       "0                             [Arts & Entertainment]  \n",
       "1                             [Arts & Entertainment]  \n",
       "2                            [Business & Industrial]  \n",
       "3  [Autos & Vehicles, Home & Garden, Business & I...  \n",
       "4                                    [Games, Sports]  "
      ]
     },
     "execution_count": 13,
     "metadata": {},
     "output_type": "execute_result"
    }
   ],
   "source": [
    "#removing stopwords\n",
    "from nltk.corpus import stopwords\n",
    "stop_words = set(stopwords.words('english'))\n",
    "stop_words.update(['zero','one','two','three','four','five','six','seven','eight','nine','ten','may','also','across','among','beside','however',\n",
    "                   'yet','within','www','e','de','la','el','v','www','http','com','https','a','b','c',\n",
    "                  'd','e','f','g','h','i','j','k','l','m','n','o','p','q','r','s','t','u','v','w','z','x','youtub'])\n",
    "re_stop_words = re.compile(r\"\\b(\" + \"|\".join(stop_words) + \")\\\\W\", re.I)\n",
    "\n",
    "def removeStopWords(sentence):\n",
    "    global re_stop_words\n",
    "    return re_stop_words.sub(\" \", sentence)\n",
    "\n",
    "data_text['translated_text'] = data_text['translated_text'].apply(removeStopWords)\n",
    "data_text.head()"
   ]
  },
  {
   "cell_type": "code",
   "execution_count": 14,
   "metadata": {},
   "outputs": [],
   "source": [
    "#stemming\n",
    "from nltk.stem.snowball import SnowballStemmer\n",
    "stemmer = SnowballStemmer(\"english\")\n",
    "def stemming(sentence):\n",
    "    stemSentence = \"\"\n",
    "    for word in sentence.split():\n",
    "        stem = stemmer.stem(word)\n",
    "        stemSentence += stem\n",
    "        stemSentence += \" \"\n",
    "    stemSentence = stemSentence.strip()\n",
    "    return stemSentence\n",
    "\n",
    "data_text['translated_text'] = data_text['translated_text'].apply(stemming)\n",
    "#df.head()"
   ]
  },
  {
   "cell_type": "code",
   "execution_count": 15,
   "metadata": {},
   "outputs": [],
   "source": [
    "#tfidf\n",
    "from sklearn.feature_extraction.text import TfidfVectorizer\n",
    "tfidf_vectorizer = TfidfVectorizer(max_df=0.8, max_features=5000)\n",
    "x = tfidf_vectorizer.fit_transform(data_text['translated_text'])\n"
   ]
  },
  {
   "cell_type": "code",
   "execution_count": 16,
   "metadata": {},
   "outputs": [
    {
     "data": {
      "text/plain": [
       "array([[0, 1, 0, ..., 0, 0, 0],\n",
       "       [0, 1, 0, ..., 0, 0, 0],\n",
       "       [0, 0, 0, ..., 0, 0, 0],\n",
       "       ...,\n",
       "       [0, 1, 0, ..., 1, 0, 0],\n",
       "       [0, 0, 0, ..., 0, 0, 0],\n",
       "       [0, 0, 0, ..., 0, 1, 0]])"
      ]
     },
     "execution_count": 16,
     "metadata": {},
     "output_type": "execute_result"
    }
   ],
   "source": [
    "#transforming text to features\n",
    "\n",
    "from sklearn.preprocessing import MultiLabelBinarizer\n",
    "\n",
    "multilabel_binarizer = MultiLabelBinarizer()\n",
    "multilabel_binarizer.fit(data_text['categories'])\n",
    "\n",
    "\n",
    "\n",
    "# transform target variable\n",
    "y = multilabel_binarizer.transform(data_text['categories'])\n",
    "y"
   ]
  },
  {
   "cell_type": "code",
   "execution_count": 17,
   "metadata": {},
   "outputs": [
    {
     "name": "stdout",
     "output_type": "stream",
     "text": [
      "(12451, 5000)\n",
      "(5337, 5000)\n"
     ]
    }
   ],
   "source": [
    "from sklearn.model_selection import train_test_split\n",
    "\n",
    "xtrain, xtest, ytrain, ytest = train_test_split(x, y, random_state=42, test_size=0.30, shuffle=True)\n",
    "\n",
    "print(xtrain.shape)\n",
    "print(xtest.shape)"
   ]
  },
  {
   "cell_type": "code",
   "execution_count": 18,
   "metadata": {},
   "outputs": [],
   "source": [
    " categories = ['Arts & Entertainment', 'Sports', 'Food & Drink', 'Jobs & Education', 'News', 'Health', 'Real Estate', 'Pets & Animals', 'Home & Garden', 'People & Society', 'Travel', 'Beauty & Fitness', 'Autos & Vehicles', 'Finance', 'Shopping', 'Internet & Telecom', 'Law & Government', 'Business & Industrial', 'Reference', '(Unknown)', 'Computers & Electronics', 'Hobbies & Leisure', 'Games', 'Books & Literature', 'Science']"
   ]
  },
  {
   "cell_type": "code",
   "execution_count": 57,
   "metadata": {},
   "outputs": [
    {
     "name": "stdout",
     "output_type": "stream",
     "text": [
      "Accuracy =  0.10249203672475174\n",
      "\n",
      "\n"
     ]
    }
   ],
   "source": [
    "# using binary relevance\n",
    "from skmultilearn.problem_transform import BinaryRelevance\n",
    "from sklearn.naive_bayes import GaussianNB\n",
    "from sklearn.metrics import accuracy_score\n",
    "# initialize binary relevance multi-label classifier\n",
    "# with a gaussian naive bayes base classifier\n",
    "classifier = BinaryRelevance(GaussianNB())\n",
    "\n",
    "# train\n",
    "classifier.fit(xtrain, ytrain)\n",
    "\n",
    "# predict\n",
    "predictions = classifier.predict(xtest)\n",
    "\n",
    "# accuracy\n",
    "print(\"Accuracy = \",accuracy_score(ytest,predictions))\n",
    "print(\"\\n\")"
   ]
  },
  {
   "cell_type": "code",
   "execution_count": 59,
   "metadata": {},
   "outputs": [
    {
     "data": {
      "text/plain": [
       "0.18677908937605397"
      ]
     },
     "execution_count": 59,
     "metadata": {},
     "output_type": "execute_result"
    }
   ],
   "source": [
    "import sklearn.metrics as metrics\n",
    "\n",
    "metrics.hamming_loss(ytest, predictions)"
   ]
  },
  {
   "cell_type": "code",
   "execution_count": 58,
   "metadata": {},
   "outputs": [
    {
     "data": {
      "text/plain": [
       "[GaussianNB(priors=None, var_smoothing=1e-09),\n",
       " GaussianNB(priors=None, var_smoothing=1e-09),\n",
       " GaussianNB(priors=None, var_smoothing=1e-09),\n",
       " GaussianNB(priors=None, var_smoothing=1e-09),\n",
       " GaussianNB(priors=None, var_smoothing=1e-09),\n",
       " GaussianNB(priors=None, var_smoothing=1e-09),\n",
       " GaussianNB(priors=None, var_smoothing=1e-09),\n",
       " GaussianNB(priors=None, var_smoothing=1e-09),\n",
       " GaussianNB(priors=None, var_smoothing=1e-09),\n",
       " GaussianNB(priors=None, var_smoothing=1e-09),\n",
       " GaussianNB(priors=None, var_smoothing=1e-09),\n",
       " GaussianNB(priors=None, var_smoothing=1e-09),\n",
       " GaussianNB(priors=None, var_smoothing=1e-09),\n",
       " GaussianNB(priors=None, var_smoothing=1e-09),\n",
       " GaussianNB(priors=None, var_smoothing=1e-09),\n",
       " GaussianNB(priors=None, var_smoothing=1e-09),\n",
       " GaussianNB(priors=None, var_smoothing=1e-09),\n",
       " GaussianNB(priors=None, var_smoothing=1e-09),\n",
       " GaussianNB(priors=None, var_smoothing=1e-09),\n",
       " GaussianNB(priors=None, var_smoothing=1e-09),\n",
       " GaussianNB(priors=None, var_smoothing=1e-09),\n",
       " GaussianNB(priors=None, var_smoothing=1e-09),\n",
       " GaussianNB(priors=None, var_smoothing=1e-09),\n",
       " GaussianNB(priors=None, var_smoothing=1e-09),\n",
       " GaussianNB(priors=None, var_smoothing=1e-09)]"
      ]
     },
     "execution_count": 58,
     "metadata": {},
     "output_type": "execute_result"
    }
   ],
   "source": [
    "classifier.classifiers_"
   ]
  },
  {
   "cell_type": "code",
   "execution_count": 60,
   "metadata": {},
   "outputs": [
    {
     "data": {
      "text/plain": [
       "0.3055315591472761"
      ]
     },
     "execution_count": 60,
     "metadata": {},
     "output_type": "execute_result"
    }
   ],
   "source": [
    "from sklearn.metrics import f1_score\n",
    "f1_score(ytest, predictions, average=\"micro\")"
   ]
  },
  {
   "cell_type": "code",
   "execution_count": 61,
   "metadata": {},
   "outputs": [
    {
     "data": {
      "text/plain": [
       "0.5976722655733369"
      ]
     },
     "execution_count": 61,
     "metadata": {},
     "output_type": "execute_result"
    }
   ],
   "source": [
    "#imporove f1 score\n",
    "# predict probabilities\n",
    "y_pred_prob = clf.predict_proba(xtest)\n",
    "\n",
    "#setting a new threshold value\n",
    "t = 0.3 # threshold value\n",
    "y_pred_new = (y_pred_prob >= t).astype(int)\n",
    "\n",
    "# evaluate performance\n",
    "f1_score(ytest, y_pred_new, average=\"micro\")"
   ]
  },
  {
   "cell_type": "code",
   "execution_count": 62,
   "metadata": {},
   "outputs": [
    {
     "name": "stdout",
     "output_type": "stream",
     "text": [
      "Accuracy =  0.3711823121603897\n",
      "\n",
      "\n"
     ]
    }
   ],
   "source": [
    "# accuracy\n",
    "print(\"Accuracy = \",accuracy_score(ytest,y_pred_new))\n",
    "print(\"\\n\")"
   ]
  },
  {
   "cell_type": "code",
   "execution_count": 63,
   "metadata": {},
   "outputs": [
    {
     "data": {
      "text/plain": [
       "0.045598650927487355"
      ]
     },
     "execution_count": 63,
     "metadata": {},
     "output_type": "execute_result"
    }
   ],
   "source": [
    "metrics.hamming_loss(ytest, y_pred_new)"
   ]
  },
  {
   "cell_type": "code",
   "execution_count": 45,
   "metadata": {},
   "outputs": [
    {
     "name": "stderr",
     "output_type": "stream",
     "text": [
      "/home/yosr/.local/lib/python3.6/site-packages/sklearn/linear_model/logistic.py:432: FutureWarning: Default solver will be changed to 'lbfgs' in 0.22. Specify a solver to silence this warning.\n",
      "  FutureWarning)\n",
      "/home/yosr/.local/lib/python3.6/site-packages/sklearn/linear_model/logistic.py:432: FutureWarning: Default solver will be changed to 'lbfgs' in 0.22. Specify a solver to silence this warning.\n",
      "  FutureWarning)\n",
      "/home/yosr/.local/lib/python3.6/site-packages/sklearn/linear_model/logistic.py:432: FutureWarning: Default solver will be changed to 'lbfgs' in 0.22. Specify a solver to silence this warning.\n",
      "  FutureWarning)\n",
      "/home/yosr/.local/lib/python3.6/site-packages/sklearn/linear_model/logistic.py:432: FutureWarning: Default solver will be changed to 'lbfgs' in 0.22. Specify a solver to silence this warning.\n",
      "  FutureWarning)\n",
      "/home/yosr/.local/lib/python3.6/site-packages/sklearn/linear_model/logistic.py:432: FutureWarning: Default solver will be changed to 'lbfgs' in 0.22. Specify a solver to silence this warning.\n",
      "  FutureWarning)\n",
      "/home/yosr/.local/lib/python3.6/site-packages/sklearn/linear_model/logistic.py:432: FutureWarning: Default solver will be changed to 'lbfgs' in 0.22. Specify a solver to silence this warning.\n",
      "  FutureWarning)\n",
      "/home/yosr/.local/lib/python3.6/site-packages/sklearn/linear_model/logistic.py:432: FutureWarning: Default solver will be changed to 'lbfgs' in 0.22. Specify a solver to silence this warning.\n",
      "  FutureWarning)\n",
      "/home/yosr/.local/lib/python3.6/site-packages/sklearn/linear_model/logistic.py:432: FutureWarning: Default solver will be changed to 'lbfgs' in 0.22. Specify a solver to silence this warning.\n",
      "  FutureWarning)\n",
      "/home/yosr/.local/lib/python3.6/site-packages/sklearn/linear_model/logistic.py:432: FutureWarning: Default solver will be changed to 'lbfgs' in 0.22. Specify a solver to silence this warning.\n",
      "  FutureWarning)\n",
      "/home/yosr/.local/lib/python3.6/site-packages/sklearn/linear_model/logistic.py:432: FutureWarning: Default solver will be changed to 'lbfgs' in 0.22. Specify a solver to silence this warning.\n",
      "  FutureWarning)\n",
      "/home/yosr/.local/lib/python3.6/site-packages/sklearn/linear_model/logistic.py:432: FutureWarning: Default solver will be changed to 'lbfgs' in 0.22. Specify a solver to silence this warning.\n",
      "  FutureWarning)\n",
      "/home/yosr/.local/lib/python3.6/site-packages/sklearn/linear_model/logistic.py:432: FutureWarning: Default solver will be changed to 'lbfgs' in 0.22. Specify a solver to silence this warning.\n",
      "  FutureWarning)\n",
      "/home/yosr/.local/lib/python3.6/site-packages/sklearn/linear_model/logistic.py:432: FutureWarning: Default solver will be changed to 'lbfgs' in 0.22. Specify a solver to silence this warning.\n",
      "  FutureWarning)\n",
      "/home/yosr/.local/lib/python3.6/site-packages/sklearn/linear_model/logistic.py:432: FutureWarning: Default solver will be changed to 'lbfgs' in 0.22. Specify a solver to silence this warning.\n",
      "  FutureWarning)\n",
      "/home/yosr/.local/lib/python3.6/site-packages/sklearn/linear_model/logistic.py:432: FutureWarning: Default solver will be changed to 'lbfgs' in 0.22. Specify a solver to silence this warning.\n",
      "  FutureWarning)\n",
      "/home/yosr/.local/lib/python3.6/site-packages/sklearn/linear_model/logistic.py:432: FutureWarning: Default solver will be changed to 'lbfgs' in 0.22. Specify a solver to silence this warning.\n",
      "  FutureWarning)\n",
      "/home/yosr/.local/lib/python3.6/site-packages/sklearn/linear_model/logistic.py:432: FutureWarning: Default solver will be changed to 'lbfgs' in 0.22. Specify a solver to silence this warning.\n",
      "  FutureWarning)\n",
      "/home/yosr/.local/lib/python3.6/site-packages/sklearn/linear_model/logistic.py:432: FutureWarning: Default solver will be changed to 'lbfgs' in 0.22. Specify a solver to silence this warning.\n",
      "  FutureWarning)\n",
      "/home/yosr/.local/lib/python3.6/site-packages/sklearn/linear_model/logistic.py:432: FutureWarning: Default solver will be changed to 'lbfgs' in 0.22. Specify a solver to silence this warning.\n",
      "  FutureWarning)\n",
      "/home/yosr/.local/lib/python3.6/site-packages/sklearn/linear_model/logistic.py:432: FutureWarning: Default solver will be changed to 'lbfgs' in 0.22. Specify a solver to silence this warning.\n",
      "  FutureWarning)\n",
      "/home/yosr/.local/lib/python3.6/site-packages/sklearn/linear_model/logistic.py:432: FutureWarning: Default solver will be changed to 'lbfgs' in 0.22. Specify a solver to silence this warning.\n",
      "  FutureWarning)\n",
      "/home/yosr/.local/lib/python3.6/site-packages/sklearn/linear_model/logistic.py:432: FutureWarning: Default solver will be changed to 'lbfgs' in 0.22. Specify a solver to silence this warning.\n",
      "  FutureWarning)\n",
      "/home/yosr/.local/lib/python3.6/site-packages/sklearn/linear_model/logistic.py:432: FutureWarning: Default solver will be changed to 'lbfgs' in 0.22. Specify a solver to silence this warning.\n",
      "  FutureWarning)\n",
      "/home/yosr/.local/lib/python3.6/site-packages/sklearn/linear_model/logistic.py:432: FutureWarning: Default solver will be changed to 'lbfgs' in 0.22. Specify a solver to silence this warning.\n",
      "  FutureWarning)\n",
      "/home/yosr/.local/lib/python3.6/site-packages/sklearn/linear_model/logistic.py:432: FutureWarning: Default solver will be changed to 'lbfgs' in 0.22. Specify a solver to silence this warning.\n",
      "  FutureWarning)\n"
     ]
    },
    {
     "name": "stdout",
     "output_type": "stream",
     "text": [
      "Accuracy =  0.3893573168446693\n",
      "\n",
      "\n"
     ]
    }
   ],
   "source": [
    "# using classifier chains\n",
    "from skmultilearn.problem_transform import ClassifierChain\n",
    "from sklearn.linear_model import LogisticRegression\n",
    "\n",
    "\n",
    "# initialize classifier chains multi-label classifier\n",
    "classifier2 = ClassifierChain(LogisticRegression())\n",
    "\n",
    "# Training logistic regression model on train data\n",
    "classifier2.fit(xtrain, ytrain)\n",
    "\n",
    "# predict\n",
    "predictions2 = classifier.predict(xtest)\n",
    "\n",
    "# accuracy\n",
    "print(\"Accuracy = \",accuracy_score(ytest,predictions2))\n",
    "print(\"\\n\")"
   ]
  },
  {
   "cell_type": "code",
   "execution_count": 64,
   "metadata": {},
   "outputs": [
    {
     "data": {
      "text/plain": [
       "0.05454000374742365"
      ]
     },
     "execution_count": 64,
     "metadata": {},
     "output_type": "execute_result"
    }
   ],
   "source": [
    "metrics.hamming_loss(ytest, predictions2)"
   ]
  },
  {
   "cell_type": "code",
   "execution_count": 47,
   "metadata": {},
   "outputs": [
    {
     "data": {
      "text/plain": [
       "0.5101312689330192"
      ]
     },
     "execution_count": 47,
     "metadata": {},
     "output_type": "execute_result"
    }
   ],
   "source": [
    "from sklearn.metrics import f1_score\n",
    "f1_score(ytest, predictions2, average=\"micro\")\n",
    "\n",
    "#imporove f1 score\n",
    "# predict probabilities\n",
    "#y_pred_prob = clf.predict_proba(xtest)\n",
    "\n",
    "#setting a new threshold value\n",
    "#t = 0.3 # threshold value\n",
    "#y_pred_new = (y_pred_prob >= t).astype(int)\n",
    "\n",
    "# evaluate performance\n",
    "#f1_score(ytest, y_pred_new, average=\"micro\")\n",
    "\n",
    "# accuracy\n",
    "#print(\"Accuracy = \",accuracy_score(ytest,y_pred_new))\n",
    "#print(\"\\n\")"
   ]
  },
  {
   "cell_type": "code",
   "execution_count": 48,
   "metadata": {},
   "outputs": [
    {
     "data": {
      "text/plain": [
       "0.5725873659647759"
      ]
     },
     "execution_count": 48,
     "metadata": {},
     "output_type": "execute_result"
    }
   ],
   "source": [
    "#imporove f1 score\n",
    "# predict probabilities\n",
    "y_pred_prob = classifier2.predict_proba(xtest)\n",
    "\n",
    "#setting a new threshold value\n",
    "t = 0.3 # threshold value\n",
    "y_pred_new = (y_pred_prob >= t).astype(int)\n",
    "\n",
    "# evaluate performance\n",
    "f1_score(ytest, y_pred_new, average=\"micro\")\n"
   ]
  },
  {
   "cell_type": "code",
   "execution_count": 49,
   "metadata": {},
   "outputs": [
    {
     "name": "stdout",
     "output_type": "stream",
     "text": [
      "Accuracy =  0.31534569983136596\n",
      "\n",
      "\n"
     ]
    }
   ],
   "source": [
    "# accuracy\n",
    "print(\"Accuracy = \",accuracy_score(ytest,y_pred_new))\n",
    "print(\"\\n\")"
   ]
  },
  {
   "cell_type": "code",
   "execution_count": 65,
   "metadata": {},
   "outputs": [
    {
     "name": "stderr",
     "output_type": "stream",
     "text": [
      "/home/yosr/.local/lib/python3.6/site-packages/sklearn/linear_model/logistic.py:432: FutureWarning: Default solver will be changed to 'lbfgs' in 0.22. Specify a solver to silence this warning.\n",
      "  FutureWarning)\n",
      "/home/yosr/.local/lib/python3.6/site-packages/sklearn/linear_model/logistic.py:469: FutureWarning: Default multi_class will be changed to 'auto' in 0.22. Specify the multi_class option to silence this warning.\n",
      "  \"this warning.\", FutureWarning)\n"
     ]
    },
    {
     "name": "stdout",
     "output_type": "stream",
     "text": [
      "Accuracy =  0.3893573168446693\n",
      "\n",
      "\n"
     ]
    }
   ],
   "source": [
    "# using Label Powerset\n",
    "from skmultilearn.problem_transform import LabelPowerset\n",
    "\n",
    "\n",
    "# initialize label powerset multi-label classifier\n",
    "classifier = LabelPowerset(LogisticRegression())\n",
    "\n",
    "# train\n",
    "classifier.fit(xtrain, ytrain)\n",
    "\n",
    "# predict\n",
    "predictions3 = classifier.predict(xtest)\n",
    "\n",
    "# accuracy\n",
    "print(\"Accuracy = \",accuracy_score(ytest,predictions3))\n",
    "print(\"\\n\")"
   ]
  },
  {
   "cell_type": "code",
   "execution_count": 66,
   "metadata": {},
   "outputs": [
    {
     "data": {
      "text/plain": [
       "0.05454000374742365"
      ]
     },
     "execution_count": 66,
     "metadata": {},
     "output_type": "execute_result"
    }
   ],
   "source": [
    "metrics.hamming_loss(ytest, predictions3)"
   ]
  },
  {
   "cell_type": "code",
   "execution_count": 53,
   "metadata": {},
   "outputs": [
    {
     "data": {
      "text/plain": [
       "0.5101312689330192"
      ]
     },
     "execution_count": 53,
     "metadata": {},
     "output_type": "execute_result"
    }
   ],
   "source": [
    "from sklearn.metrics import f1_score\n",
    "f1_score(ytest, predictions3, average=\"micro\")"
   ]
  },
  {
   "cell_type": "code",
   "execution_count": 55,
   "metadata": {},
   "outputs": [
    {
     "data": {
      "text/plain": [
       "0.4566244854398537"
      ]
     },
     "execution_count": 55,
     "metadata": {},
     "output_type": "execute_result"
    }
   ],
   "source": [
    "#imporove f1 score\n",
    "# predict probabilities\n",
    "y_pred_prob = classifier.predict_proba(xtest)\n",
    "\n",
    "#setting a new threshold value\n",
    "t = 0.3 # threshold value\n",
    "y_pred_new = (y_pred_prob >= t).astype(int)\n",
    "\n",
    "# evaluate performance\n",
    "f1_score(ytest, y_pred_new, average=\"micro\")"
   ]
  },
  {
   "cell_type": "code",
   "execution_count": 56,
   "metadata": {},
   "outputs": [
    {
     "name": "stdout",
     "output_type": "stream",
     "text": [
      "Accuracy =  0.31534569983136596\n",
      "\n",
      "\n"
     ]
    }
   ],
   "source": [
    "# accuracy\n",
    "print(\"Accuracy = \",accuracy_score(ytest,y_pred_new))\n",
    "print(\"\\n\")"
   ]
  },
  {
   "cell_type": "code",
   "execution_count": 32,
   "metadata": {},
   "outputs": [],
   "source": [
    "train, test = train_test_split(data_text, random_state=42, test_size=0.20, shuffle=True)"
   ]
  },
  {
   "cell_type": "code",
   "execution_count": 33,
   "metadata": {},
   "outputs": [],
   "source": [
    "#tfidf\n",
    "from sklearn.feature_extraction.text import TfidfVectorizer\n",
    "tfidf_vectorizer = TfidfVectorizer(max_df=0.8, max_features=5000)\n",
    "x_train = tfidf_vectorizer.fit_transform(train['translated_text'])\n",
    "x_test = tfidf_vectorizer.fit_transform(test['translated_text'])"
   ]
  },
  {
   "cell_type": "code",
   "execution_count": 34,
   "metadata": {},
   "outputs": [
    {
     "data": {
      "text/plain": [
       "array([[0, 1, 0, ..., 0, 0, 0],\n",
       "       [0, 0, 0, ..., 0, 0, 0],\n",
       "       [0, 1, 0, ..., 0, 0, 0],\n",
       "       ...,\n",
       "       [0, 0, 0, ..., 0, 1, 0],\n",
       "       [0, 0, 0, ..., 0, 1, 0],\n",
       "       [0, 0, 1, ..., 0, 0, 1]])"
      ]
     },
     "execution_count": 34,
     "metadata": {},
     "output_type": "execute_result"
    }
   ],
   "source": [
    "#transforming text to features\n",
    "\n",
    "from sklearn.preprocessing import MultiLabelBinarizer\n",
    "\n",
    "multilabel_binarizer = MultiLabelBinarizer()\n",
    "multilabel_binarizer.fit(train['categories'])\n",
    "multilabel_binarizer.fit(test['categories'])\n",
    "\n",
    "\n",
    "\n",
    "# transform target variable\n",
    "y_train = multilabel_binarizer.transform(train['categories'])\n",
    "y_test = multilabel_binarizer.transform(test['categories'])\n",
    "y_train"
   ]
  },
  {
   "cell_type": "code",
   "execution_count": 41,
   "metadata": {},
   "outputs": [
    {
     "name": "stdout",
     "output_type": "stream",
     "text": [
      "**Processing Arts & Entertainment videos...**\n",
      "Test accuracy is 0.01517706576728499\n",
      "\n",
      "\n",
      "**Processing Sports videos...**\n",
      "Test accuracy is 0.01517706576728499\n",
      "\n",
      "\n",
      "**Processing Food & Drink videos...**\n",
      "Test accuracy is 0.01517706576728499\n",
      "\n",
      "\n",
      "**Processing Jobs & Education videos...**\n",
      "Test accuracy is 0.01517706576728499\n",
      "\n",
      "\n",
      "**Processing News videos...**\n",
      "Test accuracy is 0.01517706576728499\n",
      "\n",
      "\n",
      "**Processing Health videos...**\n",
      "Test accuracy is 0.01517706576728499\n",
      "\n",
      "\n",
      "**Processing Real Estate videos...**\n",
      "Test accuracy is 0.01517706576728499\n",
      "\n",
      "\n",
      "**Processing Pets & Animals videos...**\n",
      "Test accuracy is 0.01517706576728499\n",
      "\n",
      "\n",
      "**Processing Home & Garden videos...**\n",
      "Test accuracy is 0.01517706576728499\n",
      "\n",
      "\n",
      "**Processing People & Society videos...**\n",
      "Test accuracy is 0.01517706576728499\n",
      "\n",
      "\n",
      "**Processing Travel videos...**\n",
      "Test accuracy is 0.01517706576728499\n",
      "\n",
      "\n",
      "**Processing Beauty & Fitness videos...**\n",
      "Test accuracy is 0.01517706576728499\n",
      "\n",
      "\n",
      "**Processing Autos & Vehicles videos...**\n",
      "Test accuracy is 0.01517706576728499\n",
      "\n",
      "\n",
      "**Processing Finance videos...**\n",
      "Test accuracy is 0.01517706576728499\n",
      "\n",
      "\n",
      "**Processing Shopping videos...**\n",
      "Test accuracy is 0.01517706576728499\n",
      "\n",
      "\n",
      "**Processing Internet & Telecom videos...**\n",
      "Test accuracy is 0.01517706576728499\n",
      "\n",
      "\n",
      "**Processing Law & Government videos...**\n",
      "Test accuracy is 0.01517706576728499\n",
      "\n",
      "\n",
      "**Processing Business & Industrial videos...**\n",
      "Test accuracy is 0.01517706576728499\n",
      "\n",
      "\n",
      "**Processing Reference videos...**\n",
      "Test accuracy is 0.01517706576728499\n",
      "\n",
      "\n",
      "**Processing (Unknown) videos...**\n",
      "Test accuracy is 0.01517706576728499\n",
      "\n",
      "\n",
      "**Processing Computers & Electronics videos...**\n",
      "Test accuracy is 0.01517706576728499\n",
      "\n",
      "\n",
      "**Processing Hobbies & Leisure videos...**\n",
      "Test accuracy is 0.01517706576728499\n",
      "\n",
      "\n",
      "**Processing Games videos...**\n",
      "Test accuracy is 0.01517706576728499\n",
      "\n",
      "\n",
      "**Processing Books & Literature videos...**\n",
      "Test accuracy is 0.01517706576728499\n",
      "\n",
      "\n",
      "**Processing Science videos...**\n",
      "Test accuracy is 0.01517706576728499\n",
      "\n",
      "\n"
     ]
    }
   ],
   "source": [
    "#One vs all \n",
    "from sklearn.linear_model import LogisticRegression\n",
    "from sklearn.pipeline import Pipeline\n",
    "from sklearn.metrics import accuracy_score\n",
    "from sklearn.multiclass import OneVsRestClassifier\n",
    "\n",
    "\n",
    "# Using pipeline for applying logistic regression and one vs rest classifier\n",
    "LogReg_pipeline = Pipeline([\n",
    "                ('clf', OneVsRestClassifier(LogisticRegression(solver='sag'), n_jobs=-1)),\n",
    "            ])\n",
    "\n",
    "for category in categories:\n",
    "    print('**Processing {} videos...**'.format(category))\n",
    "    \n",
    "    # Training logistic regression model on train data\n",
    "    LogReg_pipeline.fit(x_train, y_train)\n",
    "    \n",
    "    # calculating test accuracy\n",
    "    prediction = LogReg_pipeline.predict(x_test)\n",
    "    print('Test accuracy is {}'.format(accuracy_score(y_test, prediction)))\n",
    "    print(\"\\n\")"
   ]
  },
  {
   "cell_type": "code",
   "execution_count": null,
   "metadata": {},
   "outputs": [],
   "source": []
  }
 ],
 "metadata": {
  "kernelspec": {
   "display_name": "Python 3.6.9 64-bit",
   "language": "python",
   "name": "python36964bit2212077704fa43be80f9adfc677c7879"
  },
  "language_info": {
   "codemirror_mode": {
    "name": "ipython",
    "version": 3
   },
   "file_extension": ".py",
   "mimetype": "text/x-python",
   "name": "python",
   "nbconvert_exporter": "python",
   "pygments_lexer": "ipython3",
   "version": "3.6.9"
  }
 },
 "nbformat": 4,
 "nbformat_minor": 4
}
